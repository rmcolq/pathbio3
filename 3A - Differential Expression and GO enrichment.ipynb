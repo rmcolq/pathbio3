{
 "cells": [
  {
   "cell_type": "markdown",
   "id": "542fdaa8-1e05-4605-94f8-b6bc885fc64a",
   "metadata": {},
   "source": [
    "# What to expect\n",
    "\n",
    "In notebooks 2A and 2B we took a first look at the results from STAR, loading them as a DeseqDataSet and normalizing them with DeSeq2. In this session we are going to look at which genes are the most highly differentially expressed, and investigate the GO terms and pathways associated with them. We will do this first for the example dataset <i>Schistosoma mansoni</i>, and then in notebook 3B you will repeat the process for your chosen dataset."
   ]
  },
  {
   "cell_type": "code",
   "execution_count": null,
   "id": "20c7eff8-81af-4975-9050-30cf0194ca69",
   "metadata": {},
   "outputs": [],
   "source": [
    "#Install PyDESeq2 and import required classes\n",
    "! pip install --quiet pydeseq2"
   ]
  },
  {
   "cell_type": "code",
   "execution_count": null,
   "id": "810a4b3a-1df2-494b-ab96-1d47f752b587",
   "metadata": {},
   "outputs": [],
   "source": [
    "import pandas as pd\n",
    "from pydeseq2.dds import DeseqDataSet\n",
    "\n",
    "# load in the counts and metadata again\n",
    "counts = pd.read_csv(\"analysis/Schistosoma_mansoni/star/ReadsPerGene.csv\", index_col=0).T\n",
    "metadata = pd.read_csv(\"data/Schistosoma_mansoni/metadata.csv\", index_col=0)\n",
    "\n",
    "# restrict to the 2 stages we want to compare\n",
    "counts_s = counts[metadata[\"stage\"].isin([\"cercarium\",\"24 hr schistosomulum\"])]\n",
    "metadata_s = metadata[metadata[\"stage\"].isin([\"cercarium\",\"24 hr schistosomulum\"])]\n",
    "\n",
    "# create deseq2 dataset object\n",
    "dds = DeseqDataSet(\n",
    "    counts=counts_s,\n",
    "    metadata=metadata_s,\n",
    "    design_factors=\"stage\",  # compare samples based on the developmental \"stage\"\n",
    "    refit_cooks=True\n",
    ")"
   ]
  },
  {
   "cell_type": "markdown",
   "id": "2cbcd639-a5be-4d29-8695-a75171330405",
   "metadata": {},
   "source": [
    "# Differential Expression analysis"
   ]
  },
  {
   "cell_type": "markdown",
   "id": "7881d634",
   "metadata": {},
   "source": [
    "As we did in notebook 2A, we will apply the `deseq2` method to our dds object. Remember that this method normalises the data, estimates the dispersion and calculates the log fold change (LFC) based on the design factor."
   ]
  },
  {
   "cell_type": "code",
   "execution_count": null,
   "id": "0a9eec29-7561-4919-956d-63f1d705025d",
   "metadata": {},
   "outputs": [],
   "source": [
    "# Run DeSeq2\n",
    "dds.deseq2()"
   ]
  },
  {
   "cell_type": "markdown",
   "id": "cbc79f18",
   "metadata": {},
   "source": [
    "This time, however, we also want to perform a statistical analysis, to find out which differences in gene expression are statistically significant. To do that, we use the class `DeseqStats` on our dds object, and store the output in a new object called \"stat_res\" "
   ]
  },
  {
   "cell_type": "code",
   "execution_count": null,
   "id": "2c6b87e3",
   "metadata": {},
   "outputs": [],
   "source": [
    "from pydeseq2.ds import DeseqStats\n",
    "\n",
    "stat_res=DeseqStats(dds)"
   ]
  },
  {
   "cell_type": "markdown",
   "id": "44a6eba0",
   "metadata": {},
   "source": [
    "Now, we have to generate a summary of the statistical analysis contained in the \"stat_res\" object. To do that, we use the `summary` method."
   ]
  },
  {
   "cell_type": "code",
   "execution_count": null,
   "id": "78c63747",
   "metadata": {},
   "outputs": [],
   "source": [
    "stat_res.summary()"
   ]
  },
  {
   "cell_type": "markdown",
   "id": "59424c9b",
   "metadata": {},
   "source": [
    "Voila! This is the raw result of our differential expression analysis. We can find out more about the columns in these results on the [page for the DeSeq2 gene-level differential expression workflow](https://master.bioconductor.org/packages/release/workflows/vignettes/rnaseqGene/inst/doc/rnaseqGene.html), as the python module we are using is a wrapper for the original tool written in R. Let's take a moment to make sure we understand it. \n",
    "\n",
    "<div class=\"alert alert-block alert-warning\">\n",
    "\n",
    "Questions:\n",
    "    \n",
    "1. baseMean: what is this value? How is it calculated?\n",
    "    \n",
    "2. log2FoldChange: why do you think the fold change is calculated as log2? \n",
    "    For gene Smp318880, the log2FoldChange is 4.93. Is this gene more expressed in cercarium or in 24 hr schistosomulum? How many times more?\n",
    "    \n",
    "3. lfcSE: what is this value?\n",
    "    \n",
    "4. stat: what is this value?\n",
    "    \n",
    "5. pvalue and padj: what is the difference between these two values?"
   ]
  },
  {
   "cell_type": "markdown",
   "id": "14218c3d-175d-4d00-8892-04997a12269e",
   "metadata": {},
   "source": [
    "<div class=\"alert alert-block alert-success\">\n",
    "\n",
    "Answers:\n",
    "\n"
   ]
  },
  {
   "cell_type": "markdown",
   "id": "7968c8a6",
   "metadata": {},
   "source": [
    "We will now store the results in a dataframe, so we can explore the results further. It is also a good idea to save the dataframe as a csv file, in case we want to use outside Noteable."
   ]
  },
  {
   "cell_type": "code",
   "execution_count": null,
   "id": "7bb263cb",
   "metadata": {},
   "outputs": [],
   "source": [
    "import numpy as np\n",
    "\n",
    "# use \".results_df\" to store results in a dataframe called \"res\"\n",
    "\n",
    "\n",
    "# replace p-values of 0 with a very small number as otherwise they cause errors\n",
    "res.loc[ res.pvalue == 0, \"pvalue\" ] = np.finfo(np.float64).tiny\n",
    "res.loc[ res.padj == 0, \"padj\" ] = np.finfo(np.float64).tiny\n",
    "\n",
    "# save to csv file\n",
    "res.to_csv(f\"analysis/Schistosoma_mansoni/cercarum_vs_24h_schistosomulum.full.csv\")"
   ]
  },
  {
   "cell_type": "markdown",
   "id": "052051f5",
   "metadata": {},
   "source": [
    "You probably saw in the stat_res summary that some genes have very low expression, indicated by a low baseMean. The results for a gene that is very lowly expressed will probably not be very reliable, or very informative of a biological function. They might also make further visualisation skewed. To avoid this, we will filter results to remove genes with very low expression. A common (although arbitrary) threshold for this is a baseMean of 10. \n",
    "\n",
    "<div class=\"alert alert-block alert-warning\">\n",
    "\n",
    "Task:\n",
    "\n",
    "6. Filter out results with baseMean<10"
   ]
  },
  {
   "cell_type": "code",
   "execution_count": null,
   "id": "acb6a0fe-1310-4d19-9312-0441caff9ca5",
   "metadata": {},
   "outputs": [],
   "source": [
    "# Filter results with baseMean<10 so that gene expressions close to zero don't skew results\n"
   ]
  },
  {
   "cell_type": "markdown",
   "id": "3c633966-dbc2-4200-86ff-52a9f61b2863",
   "metadata": {},
   "source": [
    "Lets start exploring the results. \n",
    "\n",
    "<div class=\"alert alert-block alert-warning\">\n",
    "\n",
    "Questions: \n",
    "\n",
    "7. How many genes are significantly differentially expressed?\n",
    "8. For how many of these significant genes is the fold change (FC) greater than 2 or less than 0.5? Store them in a new dataframe called \"sigs\", and save it as a csv file"
   ]
  },
  {
   "cell_type": "markdown",
   "id": "0892077d-71a8-4d85-87af-3ff149607bac",
   "metadata": {},
   "source": [
    "<div class=\"alert alert-block alert-success\">\n",
    "\n",
    "Answers: \n",
    "\n"
   ]
  },
  {
   "cell_type": "code",
   "execution_count": null,
   "id": "ba5d3e24-9a23-4472-b6ca-75d0f66f333c",
   "metadata": {},
   "outputs": [],
   "source": [
    "# Count the number of genes with padj<0.05\n"
   ]
  },
  {
   "cell_type": "code",
   "execution_count": null,
   "id": "9572275c-aff1-4012-b3b6-89b482a95e3d",
   "metadata": {},
   "outputs": [],
   "source": [
    "# Get list of only genes that have a fold change FC > 2 or FC < 0.5 and are significantly changed\n"
   ]
  },
  {
   "cell_type": "code",
   "execution_count": null,
   "id": "19c4a628-2dde-4f7a-b692-07721d06b22c",
   "metadata": {},
   "outputs": [],
   "source": [
    "# save it as a csv file\n",
    "sigs.to_csv(f\"analysis/Schistosoma_mansoni/cercarum_vs_24h_schistosomulum.filtered.csv\")"
   ]
  },
  {
   "cell_type": "markdown",
   "id": "079f08e4-9fc0-4374-ac89-aad5246654c2",
   "metadata": {},
   "source": [
    "# Visualisation - Volcano Plot"
   ]
  },
  {
   "cell_type": "markdown",
   "id": "b94f4778",
   "metadata": {},
   "source": [
    "<figure>\n",
    "    <img src=\"https://scienceparkstudygroup.github.io/rna-seq-lesson/img/volcano_plot.png\" align=\"right\" width=\"400\">\n",
    "</figure>\n",
    "\n",
    "Another common way to visualise differential expression analysis results is a volcano plot.\n",
    "The advantage of this plot is that we can see at the same time the change in gene expression and the statistical significance of that change, for each gene. That makes it easy to identify genes for further analysis.\n",
    "As shown in the figure on the right (taken from [this source](https://scienceparkstudygroup.github.io/rna-seq-lesson/06-differential-analysis/index.html#3-volcano-plot)), in a typical volcano plot:\n",
    "* on the X axys we plot the log2 fold change in gene expression\n",
    "* on the Y axys we plot the -log10Pvalue. Why? Because:\n",
    "\n",
    "    (a) The p-value is transformed into Log10 to help with visualisation, in the same way that the fold change in gene expression was calculated as log2 by PyDeseq2. \n",
    "\n",
    "    (b) If you remember previous stats lessons, P values are a probability, and therefore are always between 0 and 1. The log10 of a number between 0 and 1 will always be negative. To make interpretation easier, we do \"-\"log10, so the result is always a positive number. For example: log10(0.5)=-0.301 ; -[log10(0.5)]=-[-0.301]=0.301."
   ]
  },
  {
   "cell_type": "markdown",
   "id": "7e3f82a3",
   "metadata": {},
   "source": [
    "Let's plot our results in a volcano plot. To do that, we will use matplotlib, which we importas \"plt\", and which you already used in the Data Exploration last year. If you need a quick refresher, have a look [here](https://matplotlib.org/stable/users/explain/quick_start.html)"
   ]
  },
  {
   "cell_type": "markdown",
   "id": "7f051e3e",
   "metadata": {},
   "source": [
    "<div class=\"alert alert-block alert-warning\">\n",
    "    \n",
    "9. Using matplotlib, make a scatter plot that: \n",
    "* in the X axys plots the log2FoldChange values from the \"res\" dataframe \n",
    "* in the Y axys plots -log10 of the padj values from the \"res\" dataframe"
   ]
  },
  {
   "cell_type": "markdown",
   "id": "d678122e",
   "metadata": {},
   "source": [
    "<details>\n",
    "<summary><i>Hint</i></summary>\n",
    "\n",
    "- `apply` a lambda function to transform the padj to log10 using a numpy\n",
    "- you can have a look at the Data Exploration in Biology class 3 (week 2), where lambda functions were introduced\n",
    "    \n",
    "</details>"
   ]
  },
  {
   "cell_type": "code",
   "execution_count": null,
   "id": "1b988c77",
   "metadata": {},
   "outputs": [],
   "source": [
    "import seaborn as sns\n",
    "import matplotlib.pylab as plt\n",
    "\n"
   ]
  },
  {
   "cell_type": "markdown",
   "id": "16576e6d",
   "metadata": {},
   "source": [
    "Let's make the volcano plot fancier by coloring dots depending on:\n",
    "* whether they are up- or down- regulated\n",
    "* whether they are significantly regulated"
   ]
  },
  {
   "cell_type": "code",
   "execution_count": null,
   "id": "c36d893c",
   "metadata": {},
   "outputs": [],
   "source": [
    "# define the significantly up or down regulated genes\n",
    "down = res[(res['log2FoldChange']<=-1)&(res['padj']<0.05)]\n",
    "up = res[(res['log2FoldChange']>=1)&(res['padj']<0.05)]\n",
    "\n",
    "# plot the all the genes and then highlight downregulated and upregulated\n"
   ]
  },
  {
   "cell_type": "markdown",
   "id": "1b408d21",
   "metadata": {},
   "source": [
    "Let's improve the volcano plot further by adding:\n",
    "* lines at the threshold values\n",
    "* axys labels\n",
    "\n",
    "And let's save it as a png image"
   ]
  },
  {
   "cell_type": "code",
   "execution_count": null,
   "id": "6d2eaf5c-1858-40e5-bdca-af001822f8f8",
   "metadata": {},
   "outputs": [],
   "source": [
    "# define the significantly up or down regulated genes\n",
    "down = res[(res['log2FoldChange']<=-1)&(res['padj']<0.05)]\n",
    "up = res[(res['log2FoldChange']>=1)&(res['padj']<0.05)]\n",
    "\n",
    "# plot the all the genes and then highlight downregulated and upregulated\n",
    "\n",
    "# Add axys labels\n",
    "\n",
    "# Add threshold lines\n",
    "plt.axvline(-1,color=\"grey\",linestyle=\"--\")\n",
    "plt.axvline(1,color=\"grey\",linestyle=\"--\")\n",
    "plt.axhline(-np.log10(0.05),color=\"grey\",linestyle=\"--\")\n",
    "plt.legend()\n",
    "\n",
    "plt.savefig('example_volcano.png')"
   ]
  },
  {
   "cell_type": "markdown",
   "id": "c56bb267-b18e-4ebc-9123-19a98de0e47f",
   "metadata": {},
   "source": [
    "# Visualisation - Interactive Volcano Plot (Extension)"
   ]
  },
  {
   "cell_type": "markdown",
   "id": "f5b1d050",
   "metadata": {},
   "source": [
    "To explore our data, it would be very convenient if we coud hover over a dot and get the gene name. Making that sort of interactive plot is possible using the python library [plotly](https://plotly.com/python/)."
   ]
  },
  {
   "cell_type": "code",
   "execution_count": null,
   "id": "28a3582f",
   "metadata": {},
   "outputs": [],
   "source": [
    "# First, we install and import\n",
    "! pip install plotly\n",
    "! pip install chart_studio\n",
    "import plotly.express as px\n",
    "import chart_studio.plotly as py"
   ]
  },
  {
   "cell_type": "code",
   "execution_count": null,
   "id": "8d3151e1",
   "metadata": {},
   "outputs": [],
   "source": [
    "# Plotly requires a slightly different input than matplotlib. In our dataframe res, we need to:\n",
    "# - create a new column with the gene names\n",
    "# - create a new column with the transformed -log10(padj)\n",
    "res['gene']=res.index\n",
    "res['-log10 p value']=-np.log10(res['padj'])"
   ]
  },
  {
   "cell_type": "code",
   "execution_count": null,
   "id": "b8469587",
   "metadata": {},
   "outputs": [],
   "source": [
    "# lets check that it worked\n",
    "res"
   ]
  },
  {
   "cell_type": "code",
   "execution_count": null,
   "id": "7342211c",
   "metadata": {},
   "outputs": [],
   "source": [
    "# Now, we can use our new columns to make the volcano plot\n",
    "fig = px.scatter(\n",
    "    res,\n",
    "    x='log2FoldChange',\n",
    "    y='-log10 p value',\n",
    "    hover_data=['log2FoldChange', 'padj','gene'],\n",
    "    title='Volcano Plot cercarum_vs_24h_schistosomulum'\n",
    ")\n",
    "\n",
    "# Show the plot\n",
    "fig.show() # this takes a while to appear"
   ]
  },
  {
   "cell_type": "markdown",
   "id": "e23bffee",
   "metadata": {},
   "source": [
    "# Visualisation - Clustermap (Extension)"
   ]
  },
  {
   "cell_type": "markdown",
   "id": "f20d15fd",
   "metadata": {},
   "source": [
    "<figure>\n",
    "    <img src=\"https://scienceparkstudygroup.github.io/rna-seq-lesson/img/06-basic-heatmap.png\" align=\"right\" width=\"400\">\n",
    "</figure>\n",
    "\n",
    "A common way to visualise gene expression is a [clustermap](https://seaborn.pydata.org/generated/seaborn.clustermap.html#seaborn.clustermap). \n",
    "\n",
    "Clustermaps combine a heatmap, which you already used in Data Exploration (class 5, week 3 and others), with clustering. As shown in the figure on the right (taken from [this source](https://scienceparkstudygroup.github.io/rna-seq-lesson/06-differential-analysis/index.html#4-heatmap), gene expression values are represented on a color scale, and genes with a similar pattern of expression are grouped together.\n",
    "\n",
    "To improve visualisation, gene expression values are transformed to logarithm before graphing them. Because some genes might have expression=0, and the log of 0 is undefined, often the `log1p` transformation is applied. This returns the logarithm of (1 + expression value). So, if the expression of a particular gene is 0, instead of returning an error (because log(0) = undefined), it will return 0 (because log(1+0)=0). \n",
    "\n",
    "Lets visualise our significantly regulated genes, which we have stored in the sigs dataframe, in a clustermap."
   ]
  },
  {
   "cell_type": "code",
   "execution_count": null,
   "id": "62b1c6cb",
   "metadata": {},
   "outputs": [],
   "source": [
    "# perform the log transformation on the normalized counts stored in dds.layers['normed_counts']\n",
    "# and save the result in a new layer called log1p\n",
    "dds.layers['log1p'] = np.log1p(dds.layers['normed_counts'])\n",
    "\n",
    "# from our dds, select only the genes that are significantly regulated (which we stored in the sigs dataset)\n",
    "# and save the result as a new dds object called dds_sigs\n",
    "dds_sigs = dds[:, sigs.index]\n",
    "\n",
    "# create a dataframe called grapher that \n",
    "# - contains the log1p layer we just created, but transposed so that genes are rows and samples are columns\n",
    "# - as index has the gene names from dds_sigs\n",
    "# - as column names has the sample names from dds_sigs\n",
    "grapher = pd.DataFrame(dds_sigs.layers['log1p'].T,\n",
    "                       index=dds_sigs.var_names, columns=dds_sigs.obs_names)\n",
    "# make a clustermap of the data in the grapher dataframe\n",
    "sns.clustermap(grapher, z_score=0, cmap = 'RdYlBu_r')"
   ]
  },
  {
   "cell_type": "markdown",
   "id": "cd0ea824",
   "metadata": {},
   "source": [
    "<div class=\"alert alert-block alert-warning\">\n",
    "    \n",
    "Question:\n",
    "\n",
    "10. Looking at the heatmap, would you say that:\n",
    "    \n",
    "    a. The majority of genes are upregulated in cercarium compared to 24h schistosomulum?\n",
    "   \n",
    "    b. The majority of downregulated in cercarium compared to 24h schistosomulum?\n",
    "   \n",
    "    c. Roughly half of the genes are upregulated in half are downregulated in cercarium compared to 24h schistosomulum?\n",
    "    "
   ]
  },
  {
   "cell_type": "markdown",
   "id": "8da2a8da-3440-4763-a9f7-06f2e302fff4",
   "metadata": {
    "jp-MarkdownHeadingCollapsed": true
   },
   "source": [
    "<div class=\"alert alert-block alert-success\">\n",
    "    \n",
    "Answers:\n",
    "\n"
   ]
  },
  {
   "cell_type": "code",
   "execution_count": null,
   "id": "4bb2f4c4-7676-4a40-bc8e-4573ec6e085d",
   "metadata": {},
   "outputs": [],
   "source": []
  }
 ],
 "metadata": {
  "kernelspec": {
   "display_name": "Python 3 (ipykernel)",
   "language": "python",
   "name": "python3"
  },
  "language_info": {
   "codemirror_mode": {
    "name": "ipython",
    "version": 3
   },
   "file_extension": ".py",
   "mimetype": "text/x-python",
   "name": "python",
   "nbconvert_exporter": "python",
   "pygments_lexer": "ipython3",
   "version": "3.10.14"
  }
 },
 "nbformat": 4,
 "nbformat_minor": 5
}
