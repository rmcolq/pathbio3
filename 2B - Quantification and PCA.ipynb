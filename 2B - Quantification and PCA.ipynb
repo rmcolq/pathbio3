{
 "cells": [
  {
   "cell_type": "markdown",
   "id": "48f1d74f-32cb-4448-952b-30b808fa2c99",
   "metadata": {},
   "source": [
    "# What to expect\n",
    "\n",
    "In notebook 2B we looked at the output of STAR, and combined the results for each sample in the <i>Schistosoma mansoni</i> example dataset into a single dataframe. We considered ways to normalize the gene count data and viewed the results using  Principle Components Analysis. In this second part of this session, you will repeat most of this process for your choice of dataset.\n",
    "\n",
    "### The datasets\n",
    "The following two datasets are available. Click on the links to find out more about each one:\n",
    "1. *Plasmodium*\n",
    "2. *Trypanosoma*"
   ]
  },
  {
   "cell_type": "code",
   "execution_count": null,
   "id": "44b5a422-8793-452e-a556-2f5061b22b38",
   "metadata": {},
   "outputs": [],
   "source": [
    "# Which dataset are you considering?\n",
    "dataset = "
   ]
  },
  {
   "cell_type": "markdown",
   "id": "108a2e72-f73e-4841-a04c-73583de67adf",
   "metadata": {},
   "source": [
    "# Inspect STAR results\n",
    "As before, take a look at the `analysis/<dataset>/multiqc/multiqc_report.html` by double-clicking:\n",
    "\n",
    "<div class=\"alert alert-block alert-warning\">\n",
    "Questions:\n",
    "    \n",
    "1. What percentage of reads aligned to the reference (provide a range)? How does this compare to the example?\n",
    "2. What percentage of reads mapped exactly once in each sample? Does this look reasonable?\n",
    "3. Are there any samples which look less good? In what way?"
   ]
  },
  {
   "cell_type": "markdown",
   "id": "9b5c0e98-aef6-498b-86d0-6bd26d56874c",
   "metadata": {},
   "source": [
    "<div class=\"alert alert-block alert-success\">\n",
    "Answers:\n",
    "    \n"
   ]
  },
  {
   "cell_type": "markdown",
   "id": "7229d74c-1692-4e64-9fc7-4258d0e47f58",
   "metadata": {},
   "source": [
    "# Strandedness\n",
    "Choose an accession and take a look at `analysis/<dataset>/star/<accession>/<accession>ReadsPerGene.out.tab`. \n",
    "\n",
    "<div class=\"alert alert-block alert-warning\">\n",
    "Question:\n",
    "    \n",
    "4. Do you think this library was stranded, reverse stranded or unstranded?\n"
   ]
  },
  {
   "cell_type": "markdown",
   "id": "14aa2b68-8b4a-43bd-8500-991cc2bb4143",
   "metadata": {},
   "source": [
    "<details>\n",
    "<summary><i>Hint</i></summary>\n",
    "\n",
    "Use `head` on the command line to view the first few lines of a file. You can set the number of lines with `-n`\n",
    "</details>"
   ]
  },
  {
   "cell_type": "code",
   "execution_count": null,
   "id": "8047b145-3df1-4843-984e-f3c3df83f29e",
   "metadata": {},
   "outputs": [],
   "source": []
  },
  {
   "cell_type": "markdown",
   "id": "a6fb180a-f97a-4ab3-b572-7bc9e54a81ea",
   "metadata": {},
   "source": [
    "<div class=\"alert alert-block alert-success\">\n",
    "Answer:\n",
    "    \n"
   ]
  },
  {
   "cell_type": "markdown",
   "id": "203d139a-dcc8-49a4-91d1-37b8861105af",
   "metadata": {},
   "source": [
    "# Combining data accross samples\n",
    "To ensure you have the correct results going forwards we have already combined the outputs for this dataset into `analysis/<dataset>/star/ReadsPerGene.csv`. Use pandas to load the dataframe and take a look at it."
   ]
  },
  {
   "cell_type": "code",
   "execution_count": null,
   "id": "155580fa-88ef-4504-b9bb-c93b6da652bd",
   "metadata": {},
   "outputs": [],
   "source": [
    "import pandas as pd\n",
    "\n",
    "df = "
   ]
  },
  {
   "cell_type": "code",
   "execution_count": null,
   "id": "33c3dbf4-e8ce-410a-aed3-1c3000caa984",
   "metadata": {},
   "outputs": [],
   "source": [
    "df"
   ]
  },
  {
   "cell_type": "markdown",
   "id": "371069fc-85c8-4a7c-ac81-0c85f9b5cde3",
   "metadata": {},
   "source": [
    "# Normalization with DESeq2\n",
    "\n",
    "As with the example dataset, we will load this dataset into a DeseqDataSet and use DESeq2 to normalize the counts. For each dataset we have provided metadata in `data/<dataset>/metadata.csv`. First use pandas to load the metadata and have a look. "
   ]
  },
  {
   "cell_type": "code",
   "execution_count": null,
   "id": "c75bfe99-0e86-4b66-b0e6-72bb07ad8987",
   "metadata": {},
   "outputs": [],
   "source": [
    "metadata = \n",
    "counts = "
   ]
  },
  {
   "cell_type": "code",
   "execution_count": null,
   "id": "d8a0975b-e84d-4677-b336-25c5a3f10029",
   "metadata": {},
   "outputs": [],
   "source": [
    "metadata"
   ]
  },
  {
   "cell_type": "markdown",
   "id": "8dedd188-7493-4dfe-8c11-65094330dde6",
   "metadata": {},
   "source": [
    "For *Plasmodium*, we want to compare the wildtype at the different timepoints. For *Trypanosoma*, we want to compare *Trypanosoma brucei brucei* stages with different morphologies. Filter the datasets to contain just these samples. "
   ]
  },
  {
   "cell_type": "code",
   "execution_count": null,
   "id": "2f943483-96f2-4daf-a120-4177354fbdf1",
   "metadata": {},
   "outputs": [],
   "source": [
    "counts_s = \n",
    "metadata_s = "
   ]
  },
  {
   "cell_type": "markdown",
   "id": "ed76ddcc-3079-4627-b041-043a69e35a4f",
   "metadata": {},
   "source": [
    "Generate a DeseqDataSet object for your analysis thinking about what to pass in to the `design factors` parameter."
   ]
  },
  {
   "cell_type": "code",
   "execution_count": null,
   "id": "438d60a7-0177-4b66-a240-b9faa112159e",
   "metadata": {},
   "outputs": [],
   "source": [
    "from pydeseq2.dds import DeseqDataSet\n",
    "\n",
    "dds = DeseqDataSet(\n",
    "    counts=counts_s,\n",
    "    metadata=metadata_s,\n",
    "    refit_cooks=True,\n",
    "    design_factors=\n",
    ")\n",
    "\n",
    "dds.deseq2()"
   ]
  },
  {
   "cell_type": "code",
   "execution_count": null,
   "id": "e36e3385-4a6d-4327-9bcc-a35d43cfc0ae",
   "metadata": {},
   "outputs": [],
   "source": [
    "# View the normed counts using the following\n"
   ]
  },
  {
   "cell_type": "markdown",
   "id": "cb2b6a38-b0b8-4a0f-8f2e-87a2da4afe7f",
   "metadata": {},
   "source": [
    "# PCA Plot\n",
    "\n",
    "Now take a look at how the overall data looks on a Principle Components Analysis plot of PC1 and PC2. Plot the loadings associated these components."
   ]
  },
  {
   "cell_type": "code",
   "execution_count": null,
   "id": "076c3947-e0c1-4eda-a55b-626357f6228d",
   "metadata": {},
   "outputs": [],
   "source": [
    "import scanpy as sc\n",
    "\n"
   ]
  },
  {
   "cell_type": "markdown",
   "id": "3e15c171-8182-44fb-9d5c-3772996c3e63",
   "metadata": {},
   "source": [
    "<div class=\"alert alert-block alert-warning\">\n",
    "\n",
    "Questions:\n",
    "\n",
    "5. Is there a separation between the groups?\n",
    "6. What is PC1 separating?\n",
    "7. What is PC2 separating?\n",
    "8. Which 5 genes contribute most to PC1. Which 2 contribute most to PC2?"
   ]
  },
  {
   "cell_type": "markdown",
   "id": "dd7bb54f-180c-4ed6-9a90-0d472e01f508",
   "metadata": {},
   "source": [
    "<div class=\"alert alert-block alert-success\">\n",
    "Answer:\n",
    "    \n"
   ]
  },
  {
   "cell_type": "code",
   "execution_count": null,
   "id": "8977a1a1-9ea4-4bc3-befd-1f3abf3284ba",
   "metadata": {},
   "outputs": [],
   "source": []
  }
 ],
 "metadata": {
  "kernelspec": {
   "display_name": "Python 3 (ipykernel)",
   "language": "python",
   "name": "python3"
  },
  "language_info": {
   "codemirror_mode": {
    "name": "ipython",
    "version": 3
   },
   "file_extension": ".py",
   "mimetype": "text/x-python",
   "name": "python",
   "nbconvert_exporter": "python",
   "pygments_lexer": "ipython3",
   "version": "3.10.14"
  }
 },
 "nbformat": 4,
 "nbformat_minor": 5
}
