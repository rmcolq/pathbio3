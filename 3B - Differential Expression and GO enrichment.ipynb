{
 "cells": [
  {
   "cell_type": "markdown",
   "id": "d0b0b69e-cad2-47c6-8255-960f82d7c6a6",
   "metadata": {},
   "source": [
    "# What to expect\n",
    "\n",
    "In notebook 3A we ran a differential gene expression analysis on the example dataset Schistosoma mansoni and used visualisation techniques to view the most significant genes. In this notebook we will apply the same methods to our choice of dataset in this notebook. We will go on to explore the GO terms and pathways associated with them using online resources.\n",
    "\n"
   ]
  },
  {
   "cell_type": "markdown",
   "id": "cb247fff-af98-48b7-9850-f94e96a1693d",
   "metadata": {},
   "source": [
    "# Differential Expression analysis"
   ]
  },
  {
   "cell_type": "code",
   "execution_count": null,
   "id": "665e153d-0711-4ffd-b0f9-8afbf5ca5efc",
   "metadata": {},
   "outputs": [],
   "source": [
    "import pandas as pd\n",
    "from pydeseq2.dds import DeseqDataSet\n",
    "from pydeseq2.ds import DeseqStats\n",
    "\n",
    "# load in the counts and metadata again for your dataset (set the prefix)\n",
    "prefix = \"\"\n",
    "counts = pd.read_csv(f\"analysis/{prefix}/star/ReadsPerGene.csv\", index_col=0).T\n",
    "metadata = pd.read_csv(f\"data/{prefix}/metadata.csv\", index_col=0)\n",
    "\n",
    "# restrict to the 2 stages we want to compare\n",
    "\n",
    "# create deseq2 dataset object\n",
    "\n",
    "# Run DeSeq2"
   ]
  },
  {
   "cell_type": "code",
   "execution_count": null,
   "id": "037bffb5-dfa2-47f7-95bf-72b636f350db",
   "metadata": {},
   "outputs": [],
   "source": [
    "import numpy as np\n",
    "\n",
    "# Summarize results\n",
    "\n",
    "res=\n",
    "\n",
    "#replace p-values of 0 with a very small number as otherwise they cause errors\n"
   ]
  },
  {
   "cell_type": "code",
   "execution_count": null,
   "id": "f9366594-1ef5-4a0e-b324-acd8405711a7",
   "metadata": {},
   "outputs": [],
   "source": [
    "! mkdir -p \"analysis/Trypanosoma/de\"\n",
    "! mkdir -p \"analysis/Plasmodium/de\""
   ]
  },
  {
   "cell_type": "code",
   "execution_count": null,
   "id": "b33be8ce-dc7e-4a77-b2e0-3a2b526ec85a",
   "metadata": {},
   "outputs": [],
   "source": [
    "# save this intermediate CSV with a sensible name\n",
    "comparison = \"\"\n",
    "res.to_csv(f\"analysis/{prefix}/de/{comparison}.full.csv\")"
   ]
  },
  {
   "cell_type": "code",
   "execution_count": null,
   "id": "642b3a2a-42b5-4fb7-97a3-89af34561a8c",
   "metadata": {},
   "outputs": [],
   "source": [
    "# Filter results with baseMean<10 so that gene expressions close to zero don't skew results\n",
    "\n",
    "# Filter by padj<=0.05\n"
   ]
  },
  {
   "cell_type": "code",
   "execution_count": null,
   "id": "bb7206e9-bf61-4114-9844-dad03aa193e6",
   "metadata": {},
   "outputs": [],
   "source": [
    "# Get list of only genes that have an absolute fold change FC > 1.5 and the abs(logFoldChange) > np.log2(1.5)\n",
    "# You can play with the exact thresholds here, these are just a guide to filter the lists\n"
   ]
  },
  {
   "cell_type": "code",
   "execution_count": null,
   "id": "51bc51bc-c429-44a5-a4df-10016a66c8f3",
   "metadata": {},
   "outputs": [],
   "source": [
    "# Save the up and down regulated genes separately\n",
    "up = sigs[sigs[\"log2FoldChange\"] > 0]\n",
    "up.to_csv(f\"analysis/{prefix}/de/{comparison}.up.csv\")\n",
    "up"
   ]
  },
  {
   "cell_type": "code",
   "execution_count": null,
   "id": "00f96914-dc58-454c-ad7b-2e2a843ded82",
   "metadata": {},
   "outputs": [],
   "source": [
    "down = sigs[sigs[\"log2FoldChange\"] < 0]\n",
    "up.to_csv(f\"analysis/{prefix}/de/{comparison}.down.csv\")\n",
    "down"
   ]
  },
  {
   "cell_type": "markdown",
   "id": "60dd7265-9d87-467e-8679-6b5d3f3f365e",
   "metadata": {},
   "source": [
    "# Visualisation - Volcano Plot\n",
    "Following the steps from notebook 3A, create a volcano plot for this dataset, colouring the significant up and down regulated genes. If you chose a different fold change cut off above, use the updated fold change here so you can see which genes are selected for. If desired, you could instead make it interactive with plotly (see extension in 3A)."
   ]
  },
  {
   "cell_type": "code",
   "execution_count": null,
   "id": "3b748238-db47-428e-af1f-b0c43940055a",
   "metadata": {},
   "outputs": [],
   "source": [
    "import seaborn as sns\n",
    "import numpy as np\n",
    "import matplotlib.pylab as plt\n",
    "\n",
    "# define the significantly up or down regulated genes\n",
    "\n",
    "# plot the all the genes and then highlight downregulated and upregulated\n",
    "\n",
    "# Add axis labels\n",
    "\n",
    "# Add threshold lines\n",
    "\n",
    "plt.savefig('dataset_volcano.png')"
   ]
  },
  {
   "cell_type": "markdown",
   "id": "bd828162-0186-48d9-bebb-bfc0bd3912d7",
   "metadata": {},
   "source": [
    "# GO Analysis and Metabolic pathways analysis\n",
    "\n",
    "We will now use these results for GO and metabolic pathway analysis using the [TriTrypDB](https://tritrypdb.org/tritrypdb/app/user/registration) and [PlasmoDB](https://plasmodb.org/plasmo/app/user/registration) websites. Before using these websites you will need to register. Full details of how to do this analysis are in the presentation, but a summary is provided below. \n",
    "\n",
    "You are welcome to perform either GO or metabolic pathway analysis on your chosen dataset, or both if you have time.\n",
    "\n",
    "For these analyses you will need the 2 CSV files of up and down regulated genes which you created above and saved as `analysis/{prefix}/de/{comparison}.up.csv` and `analysis/{prefix}/de/{comparison}.down.csv`. \n",
    "\n",
    "## Initial Analysis\n",
    "First you will \"Identify Genes based on List of IDs\" by uploading one of the CSV files as a text file to:\n",
    "\n",
    "https://tritrypdb.org/tritrypdb/app/search/transcript/GeneByLocusTag  \n",
    "https://plasmodb.org/plasmo/app/search/transcript/GeneByLocusTag\n",
    "\n",
    "After adding the list of gene IDs, click \"Get Answer\". \n",
    "\n",
    "When the results table appears, you will obtain a list with the organism, gene names (Product description) and genomic locations for the IDs you have introduced. Make sure the box “Show only one transcript per gene” is ticked. This will ensure we do not get duplications. These genes can be explored and the results can be downloaded as a .csv file.\n",
    "\n",
    "There will now be a tab called \"Analyze Results\". From this you will be able to select either \"Gene Ontology Enrichment\" or \"Metabolic Pathway Enrichment\". Select the GO analysis.\n",
    "\n",
    "## Gene Ontology Enrichment\n",
    "This will open up an options page where you can change the parameters for the statistical test it will perform (the defaults are fine). When you are ready, click \"Submit\". For each GO term, the software will then performs a statistical test to determine if a particular GO term is enriched in your list of genes. \n",
    "\n",
    "A table of results will appear reporting each GO term that has been found to be significantly increased in your list. You can download this table, or explore it on the page.\n",
    "\n",
    "## Metabolic Pathways\n",
    "This will open up an options page where you can change the parameters for the statistical test it will perform (the defaults are fine). When you are ready, click \"Submit\". \n",
    "\n",
    "A table of results will appear reporting a list of pathways enriched in your dataset along with statistics about the numbers of genes in your list which are associated with it. You can click on a pathway ID to visualise it. You can download this results table, or explore it on the page."
   ]
  }
 ],
 "metadata": {
  "kernelspec": {
   "display_name": "Python 3 (ipykernel)",
   "language": "python",
   "name": "python3"
  },
  "language_info": {
   "codemirror_mode": {
    "name": "ipython",
    "version": 3
   },
   "file_extension": ".py",
   "mimetype": "text/x-python",
   "name": "python",
   "nbconvert_exporter": "python",
   "pygments_lexer": "ipython3",
   "version": "3.10.14"
  }
 },
 "nbformat": 4,
 "nbformat_minor": 5
}
