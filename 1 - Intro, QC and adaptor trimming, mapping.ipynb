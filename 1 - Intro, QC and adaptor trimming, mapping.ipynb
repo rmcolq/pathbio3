{
 "cells": [
  {
   "cell_type": "markdown",
   "id": "f6fa3073-a023-4d2e-9804-67a421f6fe19",
   "metadata": {},
   "source": [
    "# What to expect\n",
    "\n",
    "In this notebook, we will run some of the initial quality filtering and mapping with downsampled data from our example *Schistosoma* dataset. If you need to revisit the presentation where we introduced RNAseq and the example dataset, you can find it on Learn, in the \"Workshop 1\" folder. You will also find the original paper where this dataset was published, and some review articles about RNA-Seq analysis methods. These are not compulsory reading, but may be of interest and are worth a look.\n",
    "\n",
    "In places we will provide the code to run an analysis step first, and then describe what it is doing. Some of these steps may take a few minutes, and this time can be spent reading and understanding the process as it runs."
   ]
  },
  {
   "cell_type": "markdown",
   "id": "97fc3dd1-7baf-46cc-a3f2-0d712ab4728c",
   "metadata": {},
   "source": [
    "## The command line\n",
    "\n",
    "Whilst the first and second year courses focused on teaching coding in python, another key skill in biology is to run specialized existing software. Some of these can be installed as python modules, but many real-world tools are run \"on the command line\". This means that they run like an application or program, but the user types commands in a \"shell\" or \"terminal\" instead of clicking/swiping in an interactive window. Within the notebook environment, these commands can be run in 3 ways:\n",
    "\n",
    "* adding `%%bash` to the top of a cell\n",
    "* adding a `!` to the start of the command in a cell\n",
    "* (sometimes) if the command can only be interpreted in bash, jupyter sometimes doesn't need to be told. There is a really excellent (short) primer to the command line which can be found [here](https://cyverse-leptin-rna-seq-lesson-dev.readthedocs-hosted.com/en/latest/section-3.html) and gives a description of the most common commands.\n",
    "\n",
    "During this (and subsequent) workshops, we will combine code that is written on the command line (for which the full command will be provided) and questions which will require you to use the python coding you have already learnt."
   ]
  },
  {
   "cell_type": "markdown",
   "id": "9226ed08-811d-4aea-883a-2e98b58f494b",
   "metadata": {},
   "source": [
    "# The raw data\n",
    "\n",
    "The data is stored in `data/Schistosoma_mansoni`. Here we find four elements:\n",
    "\n",
    "1. `README` file - contains basic information about the data in this folder.\n",
    "2. `list_ids` file - contains the ids for the reads in this dataset\n",
    "3. `reference` folder - contains the reference genome and transcriptome\n",
    "4. `subsampled` folder - contains the raw data file for the sample of sequences we have taken for this workshop\n",
    "\n",
    "Let's see what we have in this examples dataset. "
   ]
  },
  {
   "cell_type": "code",
   "execution_count": null,
   "id": "baabc7b3-2e41-4063-b02d-e9863170f442",
   "metadata": {},
   "outputs": [],
   "source": [
    "# Print the list of ids for this example dataset\n",
    "! cat data/Schistosoma_mansoni/list_ids.txt"
   ]
  },
  {
   "cell_type": "markdown",
   "id": "75f5b880-0fe9-43df-89e6-a6271e3a8f9a",
   "metadata": {},
   "source": [
    "<div class=\"alert alert-block alert-info\">\n",
    "In the code above:\n",
    "\n",
    "`cat` - display the contents of a file\n"
   ]
  },
  {
   "cell_type": "markdown",
   "id": "27949128-43ab-4fb0-a96d-6bbcbb11905a",
   "metadata": {},
   "source": [
    "<div class=\"alert alert-block alert-warning\">\n",
    "\n",
    "Questions:\n",
    "1. The raw data files look like this `<accession>_<1|2>.fastq.gz`. What does the \".gz\" in the file name mean?\n",
    "2. Pick one of the files and open it. What does it look like? Define the [FASTQ format](https://en.wikipedia.org/wiki/FASTQ_format)?"
   ]
  },
  {
   "cell_type": "markdown",
   "id": "bdfde4ef-d522-4a6e-ba5b-2208eda89fce",
   "metadata": {},
   "source": [
    "<details>\n",
    "<summary><i>Hint</i></summary>\n",
    "\n",
    "1. \".gz\" is what is known as a file extension.\n",
    "2. In a code cell, run\n",
    "   ```gunzip --keep data/Schistosoma_mansoni/subsampled/ERR022872_1.fastq.gz```\n",
    "   to get an uncompressed copy of `ERR022872_1.fastq`. You should then be able to double click on this file in the file browser on the left.\n",
    "\n",
    "</details>\n"
   ]
  },
  {
   "cell_type": "code",
   "execution_count": null,
   "id": "2ad181f7-718a-451a-becd-a1c5fe93dcc9",
   "metadata": {},
   "outputs": [],
   "source": [
    "! gunzip --keep data/Schistosoma_mansoni/subsampled/ERR022872_1.fastq.gz"
   ]
  },
  {
   "cell_type": "markdown",
   "id": "9eb1a206-ebcf-4efd-b12d-980a664cce67",
   "metadata": {},
   "source": [
    "# Quality Control"
   ]
  },
  {
   "cell_type": "markdown",
   "id": "12ee69f8-e98f-4b0c-bc57-44b265e00be0",
   "metadata": {},
   "source": [
    "As you will have seen in you investigations to answer question 2, sequencing DNA is not error-free - each base of the sequence is read with a degree of uncertainty and error. Each sequencing machine/method results in different error profiles. To improve our analysis we first want to filter the lowest quality reads. One tool commonly used to profile the amounts of error is [FastQC](https://www.bioinformatics.babraham.ac.uk/projects/fastqc/). "
   ]
  },
  {
   "cell_type": "code",
   "execution_count": null,
   "id": "8f3918ad-0908-4cf8-a811-9dc9240d4171",
   "metadata": {},
   "outputs": [],
   "source": [
    "#Let's start by installing the program\n",
    "! conda install --yes --quiet bioconda::fastqc"
   ]
  },
  {
   "cell_type": "markdown",
   "id": "fead3dd2-9c1d-4474-8ac8-0343b9ade22e",
   "metadata": {},
   "source": [
    "<div class=\"alert alert-block alert-info\">\n",
    "\n",
    "In the code above:\n",
    "\n",
    "`conda` - Package manager. We use it to install software\n",
    "\n",
    "`--yes` - confirm that we want to install all the dependencies\n",
    "\n",
    "`--quiet` - do not show extra output"
   ]
  },
  {
   "cell_type": "code",
   "execution_count": null,
   "id": "90d4f6da-1ddf-4bbd-b368-9452a87bc17c",
   "metadata": {},
   "outputs": [],
   "source": [
    "# Create the output directory\n",
    "! mkdir -p analysis/Schistosoma_mansoni/qc/"
   ]
  },
  {
   "cell_type": "markdown",
   "id": "b4cc7c7e-510f-40e3-8e38-0b3c906f1128",
   "metadata": {},
   "source": [
    "<div class=\"alert alert-block alert-info\">\n",
    "\n",
    "In the code above:\n",
    "\n",
    "`mkdir` - command to create a new folder\n",
    "\n",
    "`-p` - flag to create nested folders"
   ]
  },
  {
   "cell_type": "markdown",
   "id": "e6c319c0-72ce-4988-887f-cbd679158770",
   "metadata": {},
   "source": [
    "Now let's do the FASTQC for each file"
   ]
  },
  {
   "cell_type": "code",
   "execution_count": null,
   "id": "3e667b0d-bf74-456f-aa2a-cf32d63c10e6",
   "metadata": {
    "scrolled": true
   },
   "outputs": [],
   "source": [
    "%%bash\n",
    "for accession in $(cat data/Schistosoma_mansoni/list_ids.txt)\n",
    "do \n",
    "    fastqc data/Schistosoma_mansoni/subsampled/$accession*.fastq.gz --noextract -o analysis/Schistosoma_mansoni/qc\n",
    "done\n"
   ]
  },
  {
   "cell_type": "markdown",
   "id": "34fbc054-2251-480c-8e81-13b08236cfa7",
   "metadata": {},
   "source": [
    "<div class=\"alert alert-block alert-info\">\n",
    "\n",
    "In the code above:\n",
    "\n",
    "`for X in Y; do ... done` - this the structure for a loop in bash; we are asking that for each X (in this case accession n) in Y (in this case the list of ids), the program does something (in this case fastqc)\n",
    "\n",
    "`--noextract` - Do not uncompress the output file after creating it\n",
    "\n",
    "`-o` - create all output files in the output directory specified next"
   ]
  },
  {
   "cell_type": "markdown",
   "id": "bbaf1b55-86fd-4e61-b4f6-c06aa5203e93",
   "metadata": {},
   "source": [
    "<div class=\"alert alert-block alert-warning\">\n",
    "\n",
    "Open the output directory. You will see that two new files have been created for each read. Open one of the html files and have a look. [Here](https://hbctraining.github.io/Training-modules/planning_successful_rnaseq/lessons/QC_raw_data.html) you can find guidance on what each graph means. \n",
    "\n",
    "Questions:\n",
    "\n",
    "3. Is there a pattern to where the errors occur in these reads?\n",
    "4. Are there any overrepresented sequences? What are they?"
   ]
  },
  {
   "cell_type": "markdown",
   "id": "974c98f5-6a68-4244-880d-c315a1e0c9f9",
   "metadata": {},
   "source": [
    "In your investigations on the FASTQC reports you will have seen that scores are used to indicate how likely it is that a base reported in a sequencing read is in error. This is the [Phred score](https://en.wikipedia.org/wiki/Phred_quality_score). \n",
    "\n",
    "Let's have a look at the Phred scores for one of our reads. To do this, we will use [biopython](https://biopython.org/). This is a python library which supports lots of different file formats used for biological data, providing easy access to the information."
   ]
  },
  {
   "cell_type": "code",
   "execution_count": null,
   "id": "1d73533c-3428-4fc6-ad27-e8ef50e48192",
   "metadata": {},
   "outputs": [],
   "source": [
    "# Let's start by installing biopython\n",
    "! pip install biopython"
   ]
  },
  {
   "cell_type": "markdown",
   "id": "3789dd1e-d03a-4d74-88e5-1e439d5bb58b",
   "metadata": {},
   "source": [
    "For each read in a file, biopython creates a [record](https://biopython.org/wiki/SeqRecord) object. Take a look at what a record looks like when you print it using `print(record)`. Explore what information you can access from the read using `.`"
   ]
  },
  {
   "cell_type": "markdown",
   "id": "07fc0545-c052-4a15-a8e9-2372ceca1a9e",
   "metadata": {},
   "source": [
    "<div class=\"alert alert-block alert-warning\">\n",
    "\n",
    "5. Choose one of the fastq files and, using the example python code below as starting point, find out what are the highest and lowest scores in your chosen file."
   ]
  },
  {
   "cell_type": "markdown",
   "id": "b4fe4113-150b-4199-bba2-ea9f63f60f64",
   "metadata": {},
   "source": [
    "<details>\n",
    "<summary><i>Hint</i></summary>\n",
    "    \n",
    "Create variables to represent the maximum and minimum value, and for each read, update these variables using `record.letter_annotations[\"phred_quality\"]`.\n",
    "You don't need to keep the print statements. These are for exploring the data.\n",
    "\n",
    "</details>\n"
   ]
  },
  {
   "cell_type": "code",
   "execution_count": null,
   "id": "a2c758bf-fd02-48f1-98d3-05dd3cc16e18",
   "metadata": {},
   "outputs": [],
   "source": [
    "# the code below uses biopython to load in a fastq file and print the first read\n",
    "from Bio import SeqIO\n",
    "\n",
    "for record in SeqIO.parse(\"data/Schistosoma_mansoni/subsampled/ERR022872_1.fastq\", \"fastq\"):\n",
    "    print(record)\n",
    "    print(f\"ID:{record.id}, Sequence:{record.seq}\")\n",
    "    print(record.letter_annotations[\"phred_quality\"])\n",
    "    break"
   ]
  },
  {
   "cell_type": "markdown",
   "id": "a9f672eb-3a72-468f-a405-04cfbaa3de54",
   "metadata": {},
   "source": [
    "<div class=\"alert alert-block alert-info\">\n",
    "\n",
    "In the code above:\n",
    "\n",
    "`SeqIO.parse(\"file name\",\"file format\")` - is a function that reads the file and gives the desired output\n",
    "\n",
    "`break` - is needed to stop the loop, otherwise it would do it for every single read in the file, which is not what we want just now\n"
   ]
  },
  {
   "cell_type": "markdown",
   "id": "6ff8b54f-e244-4be9-bbd9-01c9398b844a",
   "metadata": {},
   "source": [
    "# Adaptor trimming"
   ]
  },
  {
   "cell_type": "markdown",
   "id": "cd6204fe-0750-4eb1-83b1-6b999c0e33df",
   "metadata": {},
   "source": [
    "When we generate millions of reads in a sequencing experiment, we are able to average multiple observations at the same location. However if there are portions of the reads which are low quality these may still affect the average and so we want to remove these regions. As you will have seen in the previous section, the adaptor sequences used to generate the DNA library may also be over-represented in the reads and could cause contamination.\n",
    "\n",
    "The next step in an RNA-Seq analysis is therefore to trim poor quality regions. [TrimGalore](https://github.com/FelixKrueger/TrimGalore/blob/master/Docs/Trim_Galore_User_Guide.md) is a popular software for trimming sequencing reads. "
   ]
  },
  {
   "cell_type": "code",
   "execution_count": null,
   "id": "53799a99-6e21-4704-8e5c-a2b9cdbf8e45",
   "metadata": {},
   "outputs": [],
   "source": [
    "# Install the software\n",
    "! conda install --yes --quiet bioconda::trim-galore conda-forge::pigz"
   ]
  },
  {
   "cell_type": "code",
   "execution_count": null,
   "id": "1a9eb730-ed9c-47bb-9baa-02a2d9d14f73",
   "metadata": {
    "scrolled": true
   },
   "outputs": [],
   "source": [
    "%%bash\n",
    "for accession in $(cat data/Schistosoma_mansoni/list_ids.txt)\n",
    "do\n",
    "    trim_galore \\\n",
    "      data/Schistosoma_mansoni/subsampled/$accession*.fastq.gz \\\n",
    "      --paired \\\n",
    "      --output_dir analysis/Schistosoma_mansoni/qc/ \\\n",
    "      --basename $accession \\\n",
    "      --fastqc\n",
    "done"
   ]
  },
  {
   "cell_type": "markdown",
   "id": "98aacb60-050b-4538-81b6-69a7a5fb37f4",
   "metadata": {},
   "source": [
    "<div class=\"alert alert-block alert-warning\">\n",
    "\n",
    "Question:\n",
    "\n",
    "6. What do the following elements of the code above mean (Use the TrimGalore documentation to find the information)?\n",
    "\n",
    "`--paired`\n",
    "\n",
    "`--fastqc`\n",
    "\n",
    "`--basename`\n",
    "\n",
    "7. Chose a read file and compare the FastQC report before trimming to the FastQC report after adaptor trimming. What are the improvements to the data quality after trimming? Are there any remaining warnings?"
   ]
  },
  {
   "cell_type": "markdown",
   "id": "68412af0-8217-4b32-837a-6f16572e7b59",
   "metadata": {},
   "source": [
    "# Mapping to the reference"
   ]
  },
  {
   "cell_type": "markdown",
   "id": "717de691-38f5-4efe-b43b-9f97c0d96a84",
   "metadata": {},
   "source": [
    "Now that we are happy with the quality of the reads and have removed adapters, we can map our sequences to the genome. This allows us to identify which genes each read came from, and which genes were <i>expressed</i> in our samples in the form of transcripts. \n",
    "\n",
    "<figure>\n",
    "    <img src=\"https://www.annualreviews.org/docserver/ahah/fulltext/biodatasci/2/1/bd020139.f4_thmb.gif\">\n",
    "</figure>\n",
    "\n",
    "In some organisms including Plasmodium, expressed transcripts may be generated by splicing together non-contiguous exons from the genome (others such as Trypanosoma do not). To handle this, we can either use a splice-aware mapper to align reads across splice junctions, or we can map directly against panels of known transcripts. In this example we are going to use [STAR](https://academic.oup.com/bioinformatics/article/29/1/15/272537) to perform splice-aware alignment to the reference genome fasta. The manual can be found [here](https://github.com/alexdobin/STAR/blob/master/doc/STARmanual.pdf). "
   ]
  },
  {
   "cell_type": "code",
   "execution_count": null,
   "id": "dd002d6d-7fea-40b5-9312-abc0b3741e6c",
   "metadata": {},
   "outputs": [],
   "source": [
    "! mamba install --yes -c bioconda star"
   ]
  },
  {
   "cell_type": "code",
   "execution_count": null,
   "id": "622a41af-986a-45c2-8683-b9120d42deeb",
   "metadata": {},
   "outputs": [],
   "source": [
    "%%bash\n",
    "mkdir -p analysis/Schistosoma_mansoni/star/ref\n",
    "gunzip data/Schistosoma_mansoni/reference/schistosoma_mansoni.PRJEA36577.WBPS19.genomic.fa.gz\n",
    "gunzip data/Schistosoma_mansoni/reference/schistosoma_mansoni.PRJEA36577.WBPS19.annotations.gff3.gz\n",
    "\n",
    "# first we need to index the reference\n",
    "STAR --runThreadN 4 \\\n",
    "  --runMode genomeGenerate \\\n",
    "  --genomeDir analysis/Schistosoma_mansoni/star/ref \\\n",
    "  --genomeFastaFiles data/Schistosoma_mansoni/reference/schistosoma_mansoni.PRJEA36577.WBPS19.genomic.fa \\\n",
    "  --sjdbGTFfile data/Schistosoma_mansoni/reference/schistosoma_mansoni.PRJEA36577.WBPS19.annotations.gff3 \\\n",
    "  --sjdbOverhang 75 \\\n",
    "  --genomeSAindexNbases 13"
   ]
  },
  {
   "cell_type": "markdown",
   "id": "4305dd85-dfda-4e89-976e-b2b96b470708",
   "metadata": {},
   "source": [
    "<div class=\"alert alert-block alert-info\">\n",
    "\n",
    "In the code above:\n",
    "\n",
    "`--runMode genomeGenerate` - directs STAR to run genome indexing\n",
    "\n",
    "`--genomeDir /path/to/genomeDir` - specifies where to store the index\n",
    "\n",
    "`--genomeFastaFiles /path/to/genome/fasta` - provides the reference genome\n",
    "\n",
    "`--sjdbGTFfile /path/to/annotations.gtf` - provides the coordinates of splice junctions in the reference genome\n",
    "\n",
    "`--sjdbOverhang ReadLength-1` - this specifies the length of sequences to include in the splice junctions database"
   ]
  },
  {
   "cell_type": "markdown",
   "id": "7c718a0d-d71f-4bff-9283-f9988cb0cbd8",
   "metadata": {},
   "source": [
    "We can now use this index to align each pair of readfiles against the reference."
   ]
  },
  {
   "cell_type": "code",
   "execution_count": null,
   "id": "44444240-2723-4f7c-89db-133f0ff4b4c1",
   "metadata": {},
   "outputs": [],
   "source": [
    "%%bash\n",
    "for accession in $(cat data/Schistosoma_mansoni/list_ids.txt)\n",
    "do\n",
    "    mkdir -p analysis/Schistosoma_mansoni/star/$accession\n",
    "    STAR \\\n",
    "      --genomeDir analysis/Schistosoma_mansoni/star/ref \\\n",
    "      --runThreadN 4 \\\n",
    "      --readFilesIn <(gunzip -c analysis/Schistosoma_mansoni/qc/$accession*.fq.gz) \\\n",
    "      --outFileNamePrefix analysis/Schistosoma_mansoni/star/$accession/$accession \\\n",
    "      --outSAMtype BAM SortedByCoordinate \\\n",
    "      --outSAMattributes Standard \\\n",
    "      --quantMode TranscriptomeSAM GeneCounts\n",
    "done"
   ]
  },
  {
   "cell_type": "markdown",
   "id": "311f53ec-2b12-4c9c-99a2-77b72adf9261",
   "metadata": {},
   "source": [
    "<div class=\"alert alert-block alert-info\">\n",
    "\n",
    "In the code above:\n",
    "\n",
    "`<(gunzip -c reads.fq.gz)` - this uncompresses the read sequences to input to STAR which does not support compressed files\n",
    "\n",
    "`--outSAMtype BAM SortedByCoordinate` - sort and compress the output\n",
    "\n",
    "`--outSAMattributes Standard` - include some standard count information in the output file"
   ]
  },
  {
   "cell_type": "markdown",
   "id": "c6d8309d-77f2-4d24-a7e3-fdd604d8935a",
   "metadata": {},
   "source": [
    "<div class=\"alert alert-block alert-warning\">\n",
    "\n",
    "Question:\n",
    "\n",
    "8. Using the STAR manual, what outputs are generated using the flags `--quantMode TranscriptomeSAM GeneCounts`?\n",
    "\n",
    "9. Find a python library which can load a SAM file"
   ]
  },
  {
   "cell_type": "markdown",
   "id": "65effdfc-c29c-448a-93a2-d9c28b794db4",
   "metadata": {},
   "source": [
    "We will be running STAR on each of the full datasets and will make the mapped read files available for the next class."
   ]
  },
  {
   "cell_type": "markdown",
   "id": "7755a167-e30e-4b20-9bfd-2c4bd87f241c",
   "metadata": {},
   "source": [
    "# Extension"
   ]
  },
  {
   "cell_type": "markdown",
   "id": "a89ef8c2-1420-4786-bb1b-866c45c0c35a",
   "metadata": {},
   "source": [
    "There also exist several methods for transcript abundance quantification using `pseudo-alignment`. These methods don't fully line up reads against the reference genome or transcript sequences, but instead count the occurance of substrings of these transcripts and use this to estimate transcript abundances. \n",
    "\n",
    "One example of this method is [Kallisto](https://www.nature.com/articles/nbt.3519)"
   ]
  },
  {
   "cell_type": "code",
   "execution_count": null,
   "id": "8cdee8f9-c553-4540-aaf7-7ca37412e08a",
   "metadata": {},
   "outputs": [],
   "source": [
    "! mamba install --yes --quiet kallisto=0.48"
   ]
  },
  {
   "cell_type": "code",
   "execution_count": null,
   "id": "24cababa-4f10-438e-8805-37b5c842b4c8",
   "metadata": {},
   "outputs": [],
   "source": [
    "%%bash\n",
    "\n",
    "mkdir -p analysis/S_mansoni/kallisto/\n",
    "\n",
    "kallisto index --index=analysis/S_mansoni/kallisto/smansoni data/S_mansoni/reference/schistosoma_mansoni.PRJEA36577.WBPS19.mRNA_transcripts.fa.gz\n",
    "\n",
    "for accession in $(cat data/S_mansoni/list_ids.txt)\n",
    "do\n",
    "    kallisto quant --threads=2 \\\n",
    "      --index=analysis/S_mansoni/kallisto/smansoni \\\n",
    "      --output-dir=analysis/S_mansoni/kallisto \\\n",
    "      --gtf=data/S_mansoni/reference/schistosoma_mansoni.PRJEA36577.WBPS19.annotations.gff3.gz \\\n",
    "      analysis/S_mansoni/qc/\"$accession\"_1.trimmed.fastq.gz analysis/S_mansoni/qc/\"$accession\"_2.trimmed.fastq.gz\n",
    "done"
   ]
  },
  {
   "cell_type": "markdown",
   "id": "1500b255-99d2-4c6e-b507-5310918933e7",
   "metadata": {},
   "source": [
    "<div class=\"alert alert-block alert-warning\">\n",
    "\n",
    "Question:\n",
    "\n",
    "10. Give 2 differences between the methods used above by STAR and Kallisto to quantify transcript abundances"
   ]
  },
  {
   "cell_type": "code",
   "execution_count": null,
   "id": "5d64bde2-373b-40b6-a7af-d32afd49eab5",
   "metadata": {},
   "outputs": [],
   "source": []
  }
 ],
 "metadata": {
  "kernelspec": {
   "display_name": "Python 3 (ipykernel)",
   "language": "python",
   "name": "python3"
  },
  "language_info": {
   "codemirror_mode": {
    "name": "ipython",
    "version": 3
   },
   "file_extension": ".py",
   "mimetype": "text/x-python",
   "name": "python",
   "nbconvert_exporter": "python",
   "pygments_lexer": "ipython3",
   "version": "3.10.14"
  }
 },
 "nbformat": 4,
 "nbformat_minor": 5
}
